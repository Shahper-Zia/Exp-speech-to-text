{
 "cells": [
  {
   "cell_type": "code",
   "execution_count": 2,
   "metadata": {},
   "outputs": [],
   "source": [
    "# !pip install gTTS"
   ]
  },
  {
   "cell_type": "code",
   "execution_count": 7,
   "metadata": {},
   "outputs": [],
   "source": [
    "import os\n",
    "import sys\n",
    "sys.path.append(os.getcwd()[:-10])"
   ]
  },
  {
   "cell_type": "code",
   "execution_count": null,
   "metadata": {},
   "outputs": [],
   "source": [
    "from gtts import gTTS"
   ]
  },
  {
   "cell_type": "code",
   "execution_count": 13,
   "metadata": {},
   "outputs": [],
   "source": [
    "from src.models.whisper import run"
   ]
  },
  {
   "cell_type": "code",
   "execution_count": 15,
   "metadata": {},
   "outputs": [],
   "source": [
    "# Define the text and language\n",
    "language = 'en'  # English\n",
    "\n",
    "\n",
    "text1 = \"Keytruda, a monoclonal antibody, has transformed the landscape of immuno-oncology, offering new hope for patients with metastatic melanoma.\"\n",
    "text2 = \"The FDA recently approved a biosimilar for Humira, addressing the growing demand for cost-effective treatments in rheumatology.\"\n",
    "text3 = \"\"\n",
    "text4 = \"\"\n",
    "text5 = \"\"\n",
    "text6 = \"\"\n",
    "text7 = \"\"\n",
    "text8 = \"\"\n",
    "text9 = \"\"\n",
    "text10 = \"\"\n",
    "\n",
    "text = \"\""
   ]
  },
  {
   "cell_type": "code",
   "execution_count": 16,
   "metadata": {},
   "outputs": [],
   "source": [
    "try:\n",
    "    # Create a gTTS object\n",
    "    tts = gTTS(text=text2, lang=language, tld='co.in')\n",
    "\n",
    "    # Save the audio file\n",
    "    tts.save(\"../data/processed/voice.mp3\")\n",
    "except Exception as e:\n",
    "    print(f\"Error: {e}\")\n"
   ]
  },
  {
   "cell_type": "code",
   "execution_count": 17,
   "metadata": {},
   "outputs": [
    {
     "name": "stdout",
     "output_type": "stream",
     "text": [
      "Loading the speech.\n",
      "Starting enhanced audio preprocessing for ../data/processed/voice.mp3\n",
      "Preprocessed audio exported to ../data/processed/temp2.wav\n",
      "Enhanced audio preprocessing completed.\n",
      "Starting audio transcription...\n",
      "Using device: cpu\n",
      "Loading Whisper Model.\n"
     ]
    },
    {
     "name": "stderr",
     "output_type": "stream",
     "text": [
      "d:\\Programs\\envs\\estt\\Lib\\site-packages\\whisper\\__init__.py:150: FutureWarning: You are using `torch.load` with `weights_only=False` (the current default value), which uses the default pickle module implicitly. It is possible to construct malicious pickle data which will execute arbitrary code during unpickling (See https://github.com/pytorch/pytorch/blob/main/SECURITY.md#untrusted-models for more details). In a future release, the default value for `weights_only` will be flipped to `True`. This limits the functions that could be executed during unpickling. Arbitrary objects will no longer be allowed to be loaded via this mode unless they are explicitly allowlisted by the user via `torch.serialization.add_safe_globals`. We recommend you start setting `weights_only=True` for any use case where you don't have full control of the loaded file. Please open an issue on GitHub for any issues related to this experimental feature.\n",
      "  checkpoint = torch.load(fp, map_location=device)\n"
     ]
    },
    {
     "name": "stdout",
     "output_type": "stream",
     "text": [
      "Performing the transciption\n"
     ]
    },
    {
     "name": "stderr",
     "output_type": "stream",
     "text": [
      "d:\\Programs\\envs\\estt\\Lib\\site-packages\\whisper\\transcribe.py:126: UserWarning: FP16 is not supported on CPU; using FP32 instead\n",
      "  warnings.warn(\"FP16 is not supported on CPU; using FP32 instead\")\n"
     ]
    },
    {
     "name": "stdout",
     "output_type": "stream",
     "text": [
      "Audio transcription completed.\n",
      "\n",
      "Transcipt ->  The FDA recently approved a biosimilar for Humeira. Addressing the growing demand for cost-effective treatments in rheumatology.\n"
     ]
    }
   ],
   "source": [
    "a = run(\"../data/processed/voice.mp3\")\n",
    "print()\n",
    "print(\"Transcipt ->\",a)"
   ]
  },
  {
   "cell_type": "code",
   "execution_count": null,
   "metadata": {},
   "outputs": [],
   "source": []
  }
 ],
 "metadata": {
  "kernelspec": {
   "display_name": "estt",
   "language": "python",
   "name": "python3"
  },
  "language_info": {
   "codemirror_mode": {
    "name": "ipython",
    "version": 3
   },
   "file_extension": ".py",
   "mimetype": "text/x-python",
   "name": "python",
   "nbconvert_exporter": "python",
   "pygments_lexer": "ipython3",
   "version": "3.11.10"
  }
 },
 "nbformat": 4,
 "nbformat_minor": 2
}
