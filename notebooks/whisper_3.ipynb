{
 "cells": [
  {
   "cell_type": "code",
   "execution_count": 1,
   "metadata": {},
   "outputs": [],
   "source": [
    "import os\n",
    "import sys\n",
    "sys.path.append(os.getcwd()[:-10])"
   ]
  },
  {
   "cell_type": "code",
   "execution_count": 2,
   "metadata": {},
   "outputs": [],
   "source": [
    "def create_pharma_correction_prompt_with_restrictions(input_sentence):\n",
    "    # Define the list of pharma terms, including multi-word terms\n",
    "    pharma_terms = [\n",
    "        \"Keytruda\", \"Humira\", \"Opdivo\", \"Remdesivir\", \"Zytiga\", \"Lipitor\",\n",
    "        \"Oncology\", \"Rheumatology\", \"Immuno-oncology\", \"FDA\", \"EMA\",\n",
    "        \"Biosimilar\", \"Biologics\", \"Orphan Drugs\", \"Blockbuster Drugs\",\n",
    "        \"Monoclonal Antibody\", \"Therapeutics\", \"Pharmacokinetics\", \"Pharmacovigilance\",\n",
    "        \"Adverse Events\", \"CAR-T Therapy\", \"mRNA Technology\", \"Drug Delivery Systems\",\n",
    "        \"Nanoparticles\", \"Drug Pipeline\", \"Market Exclusivity\", \n",
    "        \"Phase III Clinical Trials\", \"GMP\", \"Companion Diagnostics\", \"Bioavailability\"\n",
    "    ]\n",
    "    \n",
    "    # Define examples to help the model understand the task\n",
    "    examples = \"\"\"\n",
    "    ### Examples:\n",
    "    1. Input: \"The often drugs are essential in immuo-onology research.\"\n",
    "    Output: \"The Orphan Drugs are essential in immuno-oncology research.\"\n",
    "\n",
    "    2. Input: \"Keytrda is a blockbuster drug used in rheumatolgy.\"\n",
    "    Output: \"Keytruda is a blockbuster drug used in rheumatology.\"\n",
    "\n",
    "    3. Input: \"mrna tehcnology is revolutionizing drug delivery systems.\"\n",
    "    Output: \"mRNA technology is revolutionizing drug delivery systems.\"\n",
    "\n",
    "    4. Input: \"The drug Opdivvo has high bioavalability.\"\n",
    "    Output: \"The drug Opdivo has high bioavailability.\"\n",
    "    \"\"\"\n",
    "\n",
    "    # Create the prompt template\n",
    "    prompt_template = f\"\"\"\n",
    "    You are an expert in pharmaceutical and medical terminology. Your task is to identify and correct any misspelled or mistranslated pharma-related terms in the given sentence.\n",
    "\n",
    "    ### Rules:\n",
    "    1. Check for both single-word and multi-word pharma terms.\n",
    "    2. Correct terms based on the reference list of pharma terms provided below.\n",
    "    3. Retain non-pharma words and the sentence structure.\n",
    "    4. Ensure all corrected terms match the reference list exactly.\n",
    "    5. Do NOT add new words to the sentence.\n",
    "    6. Do NOT replace existing words with alternatives that are not in the reference list.\n",
    "    7. Provide ONLY the corrected sentence as output. Do NOT include any explanations, reasons, or additional text.\n",
    "\n",
    "    ### Reference List of Pharma Terms:\n",
    "    {\", \".join(pharma_terms)}\n",
    "\n",
    "    {examples}\n",
    "\n",
    "    ### Input Sentence:\n",
    "    \"{input_sentence}\"\n",
    "\n",
    "    \"\"\"\n",
    "\n",
    "    return prompt_template"
   ]
  },
  {
   "cell_type": "markdown",
   "metadata": {},
   "source": [
    "# Test with one pharma sentence"
   ]
  },
  {
   "cell_type": "code",
   "execution_count": 3,
   "metadata": {},
   "outputs": [
    {
     "name": "stdout",
     "output_type": "stream",
     "text": [
      "Adjusting for ambient noise...\n",
      "Please speak something...\n",
      "Listening Started...\n",
      "Listening Completed...\n",
      "saving as wav file\n",
      "Loading the speech.\n",
      "Starting enhanced audio preprocessing for whisper_temp.wav\n",
      "Preprocessed audio exported to ../data/processed/temp2.wav\n",
      "Enhanced audio preprocessing completed.\n",
      "Starting audio transcription...\n",
      "Using device: cpu\n",
      "Loading Whisper Model.\n"
     ]
    },
    {
     "name": "stderr",
     "output_type": "stream",
     "text": [
      "d:\\Programs\\envs\\estt\\Lib\\site-packages\\whisper\\__init__.py:150: FutureWarning: You are using `torch.load` with `weights_only=False` (the current default value), which uses the default pickle module implicitly. It is possible to construct malicious pickle data which will execute arbitrary code during unpickling (See https://github.com/pytorch/pytorch/blob/main/SECURITY.md#untrusted-models for more details). In a future release, the default value for `weights_only` will be flipped to `True`. This limits the functions that could be executed during unpickling. Arbitrary objects will no longer be allowed to be loaded via this mode unless they are explicitly allowlisted by the user via `torch.serialization.add_safe_globals`. We recommend you start setting `weights_only=True` for any use case where you don't have full control of the loaded file. Please open an issue on GitHub for any issues related to this experimental feature.\n",
      "  checkpoint = torch.load(fp, map_location=device)\n"
     ]
    },
    {
     "name": "stdout",
     "output_type": "stream",
     "text": [
      "Performing the transciption\n"
     ]
    },
    {
     "name": "stderr",
     "output_type": "stream",
     "text": [
      "d:\\Programs\\envs\\estt\\Lib\\site-packages\\whisper\\transcribe.py:126: UserWarning: FP16 is not supported on CPU; using FP32 instead\n",
      "  warnings.warn(\"FP16 is not supported on CPU; using FP32 instead\")\n"
     ]
    },
    {
     "name": "stdout",
     "output_type": "stream",
     "text": [
      "Audio transcription completed.\n",
      "\n",
      " Advances in pharmacovisaline have improved the monitoring of adverse events for therapy such as obdivo and mdcv.\n"
     ]
    }
   ],
   "source": [
    "from src.models.whisper import run\n",
    "\n",
    "# transcript = run(\"../data/raw/Rachel-Lind.wav\", initial_prompt=\"This is classroom recording\")\n",
    "transcript = run() # With Microphone: Advances in pharmacovigilance have improved the monitoring of adverse events for therapies such as Opdivo and Remdesivir. \n",
    "print()\n",
    "print(transcript)"
   ]
  },
  {
   "cell_type": "code",
   "execution_count": 4,
   "metadata": {},
   "outputs": [
    {
     "name": "stdout",
     "output_type": "stream",
     "text": [
      "\n",
      "    You are an expert in pharmaceutical and medical terminology. Your task is to identify and correct any misspelled or mistranslated pharma-related terms in the given sentence.\n",
      "\n",
      "    ### Rules:\n",
      "    1. Check for both single-word and multi-word pharma terms.\n",
      "    2. Correct terms based on the reference list of pharma terms provided below.\n",
      "    3. Retain non-pharma words and the sentence structure.\n",
      "    4. Ensure all corrected terms match the reference list exactly.\n",
      "    5. Do NOT add new words to the sentence.\n",
      "    6. Do NOT replace existing words with alternatives that are not in the reference list.\n",
      "    7. Provide ONLY the corrected sentence as output. Do NOT include any explanations, reasons, or additional text.\n",
      "\n",
      "    ### Reference List of Pharma Terms:\n",
      "    Keytruda, Humira, Opdivo, Remdesivir, Zytiga, Lipitor, Oncology, Rheumatology, Immuno-oncology, FDA, EMA, Biosimilar, Biologics, Orphan Drugs, Blockbuster Drugs, Monoclonal Antibody, Therapeutics, Pharmacokinetics, Pharmacovigilance, Adverse Events, CAR-T Therapy, mRNA Technology, Drug Delivery Systems, Nanoparticles, Drug Pipeline, Market Exclusivity, Phase III Clinical Trials, GMP, Companion Diagnostics, Bioavailability\n",
      "\n",
      "    \n",
      "    ### Examples:\n",
      "    1. Input: \"The often drugs are essential in immuo-onology research.\"\n",
      "    Output: \"The Orphan Drugs are essential in immuno-oncology research.\"\n",
      "\n",
      "    2. Input: \"Keytrda is a blockbuster drug used in rheumatolgy.\"\n",
      "    Output: \"Keytruda is a blockbuster drug used in rheumatology.\"\n",
      "\n",
      "    3. Input: \"mrna tehcnology is revolutionizing drug delivery systems.\"\n",
      "    Output: \"mRNA technology is revolutionizing drug delivery systems.\"\n",
      "\n",
      "    4. Input: \"The drug Opdivvo has high bioavalability.\"\n",
      "    Output: \"The drug Opdivo has high bioavailability.\"\n",
      "    \n",
      "\n",
      "    ### Input Sentence:\n",
      "    \" Advances in pharmacovisaline have improved the monitoring of adverse events for therapy such as obdivo and mdcv.\"\n",
      "\n",
      "    \n"
     ]
    }
   ],
   "source": [
    "# Example usage\n",
    "input_sentence = transcript\n",
    "prompt = create_pharma_correction_prompt_with_restrictions(input_sentence)\n",
    "\n",
    "print(prompt)"
   ]
  },
  {
   "cell_type": "code",
   "execution_count": 6,
   "metadata": {},
   "outputs": [
    {
     "name": "stdout",
     "output_type": "stream",
     "text": [
      "Whisper Transcipt   ->  Advances in pharmacovisaline have improved the monitoring of adverse events for therapy such as obdivo and mdcv.\n",
      "LLM Layer Transcipt -> \"Advances in Pharmacovigilance have improved the monitoring of Adverse Events for therapeutics such as Opdivo and Remdesivir.\"\n"
     ]
    }
   ],
   "source": [
    "from src.models.groq import ask_model\n",
    "\n",
    "res = ask_model(model=\"llama-3.1-70b-versatile\", prompt=prompt)\n",
    "print(\"Whisper Transcipt   ->\",transcript)\n",
    "print(\"LLM Layer Transcipt ->\",res)"
   ]
  },
  {
   "cell_type": "markdown",
   "metadata": {},
   "source": [
    "# Test with 10 Pharma sentences"
   ]
  },
  {
   "cell_type": "code",
   "execution_count": 3,
   "metadata": {},
   "outputs": [],
   "source": [
    "from src.models.whisper import run\n",
    "from src.models.groq import ask_model"
   ]
  },
  {
   "cell_type": "markdown",
   "metadata": {},
   "source": [
    "1. Read: **Keytruda**, a **monoclonal antibody**, has transformed the landscape of **immuno-oncology**, offering new hope for patients with metastatic melanoma."
   ]
  },
  {
   "cell_type": "code",
   "execution_count": 5,
   "metadata": {},
   "outputs": [
    {
     "name": "stdout",
     "output_type": "stream",
     "text": [
      "Adjusting for ambient noise...\n",
      "Please speak something...\n",
      "Listening Started...\n",
      "Listening Completed...\n",
      "saving as wav file\n",
      "Loading the speech.\n",
      "Starting enhanced audio preprocessing for whisper_temp.wav\n",
      "Preprocessed audio exported to ../data/processed/temp2.wav\n",
      "Enhanced audio preprocessing completed.\n",
      "Starting audio transcription...\n",
      "Using device: cpu\n",
      "Loading Whisper Model.\n",
      "Performing the transciption\n",
      "Audio transcription completed.\n",
      "\n",
      "Whisper Transcipt   ->  Ketuda, Ammono-Clonal antibody, has transformed the landscape of immunosancology, offering new hope for patients with metastatic melanoma.\n",
      "LLM Layer Transcipt -> \"Keytruda, Monoclonal Antibody, has transformed the landscape of Immuno-oncology, offering new hope for patients with metastatic melanoma.\"\n"
     ]
    }
   ],
   "source": [
    "transcript = run()\n",
    "prompt = create_pharma_correction_prompt_with_restrictions(transcript)\n",
    "res = ask_model(model=\"llama-3.1-70b-versatile\", prompt=prompt)\n",
    "print()\n",
    "print(\"Whisper Transcipt   ->\",transcript)\n",
    "print(\"LLM Layer Transcipt ->\",res)"
   ]
  },
  {
   "cell_type": "markdown",
   "metadata": {},
   "source": [
    "2. Read: The **FDA** recently approved a **biosimilar** for **Humira**, addressing the growing demand for cost-effective treatments in **rheumatology**."
   ]
  },
  {
   "cell_type": "code",
   "execution_count": 6,
   "metadata": {},
   "outputs": [
    {
     "name": "stdout",
     "output_type": "stream",
     "text": [
      "Adjusting for ambient noise...\n",
      "Please speak something...\n",
      "Listening Started...\n",
      "Listening Completed...\n",
      "saving as wav file\n",
      "Loading the speech.\n",
      "Starting enhanced audio preprocessing for whisper_temp.wav\n",
      "Preprocessed audio exported to ../data/processed/temp2.wav\n",
      "Enhanced audio preprocessing completed.\n",
      "Starting audio transcription...\n",
      "Using device: cpu\n",
      "Loading Whisper Model.\n",
      "Performing the transciption\n",
      "Audio transcription completed.\n",
      "\n",
      "Whisper Transcipt   ->  The FDA recently approved a biosimilar for Yomira addressing the growth demand for cost effective treatments in rheumatology.\n",
      "LLM Layer Transcipt -> \"The FDA recently approved a biosimilar for Humira addressing the growth demand for cost-effective treatments in rheumatology.\"\n"
     ]
    }
   ],
   "source": [
    "transcript = run()\n",
    "prompt = create_pharma_correction_prompt_with_restrictions(transcript)\n",
    "res = ask_model(model=\"llama-3.1-70b-versatile\", prompt=prompt)\n",
    "print()\n",
    "print(\"Whisper Transcipt   ->\",transcript)\n",
    "print(\"LLM Layer Transcipt ->\",res)"
   ]
  },
  {
   "cell_type": "markdown",
   "metadata": {},
   "source": [
    "3. Read: **CAR-T therapy** and **mRNA technology** are among the most groundbreaking innovations in **oncology**, enabling precision **therapeutics** for hard-to-treat cancers."
   ]
  },
  {
   "cell_type": "code",
   "execution_count": 8,
   "metadata": {},
   "outputs": [
    {
     "name": "stdout",
     "output_type": "stream",
     "text": [
      "Adjusting for ambient noise...\n",
      "Please speak something...\n",
      "Listening Started...\n",
      "Listening Completed...\n",
      "saving as wav file\n",
      "Loading the speech.\n",
      "Starting enhanced audio preprocessing for whisper_temp.wav\n",
      "Preprocessed audio exported to ../data/processed/temp2.wav\n",
      "Enhanced audio preprocessing completed.\n",
      "Starting audio transcription...\n",
      "Using device: cpu\n",
      "Loading Whisper Model.\n",
      "Performing the transciption\n",
      "Audio transcription completed.\n",
      "\n",
      "Whisper Transcipt   ->  Carti therapy and MRNA technology are among the most groundbreaking innovations in oncology enabling pre-season therapeutics for hard-to-treat cancers.\n",
      "LLM Layer Transcipt -> \"CAR-T Therapy and mRNA technology are among the most groundbreaking innovations in Oncology enabling precision therapeutics for hard-to-treat cancers.\"\n"
     ]
    }
   ],
   "source": [
    "transcript = run()\n",
    "prompt = create_pharma_correction_prompt_with_restrictions(transcript)\n",
    "res = ask_model(model=\"llama-3.1-70b-versatile\", prompt=prompt)\n",
    "print()\n",
    "print(\"Whisper Transcipt   ->\",transcript)\n",
    "print(\"LLM Layer Transcipt ->\",res)"
   ]
  },
  {
   "cell_type": "markdown",
   "metadata": {},
   "source": [
    "4. Read: The company's **drug pipeline** includes multiple **biologics** in **Phase III clinical trials**, targeting diseases like **lymphoma** and multiple **sclerosis**.  "
   ]
  },
  {
   "cell_type": "code",
   "execution_count": 9,
   "metadata": {},
   "outputs": [
    {
     "name": "stdout",
     "output_type": "stream",
     "text": [
      "Adjusting for ambient noise...\n",
      "Please speak something...\n",
      "Listening Started...\n",
      "Listening Completed...\n",
      "saving as wav file\n",
      "Loading the speech.\n",
      "Starting enhanced audio preprocessing for whisper_temp.wav\n",
      "Preprocessed audio exported to ../data/processed/temp2.wav\n",
      "Enhanced audio preprocessing completed.\n",
      "Starting audio transcription...\n",
      "Using device: cpu\n",
      "Loading Whisper Model.\n",
      "Performing the transciption\n",
      "Audio transcription completed.\n",
      "\n",
      "Whisper Transcipt   ->  The company's drug pipeline includes multiple biologics in phase 3 clinical trials targeting disease like lymphoma and multiple cirrhosis.\n",
      "LLM Layer Transcipt -> \"The company's drug pipeline includes multiple Biologics in Phase III Clinical Trials targeting diseases like lymphoma and multiple cirrhosis.\"\n"
     ]
    }
   ],
   "source": [
    "transcript = run()\n",
    "prompt = create_pharma_correction_prompt_with_restrictions(transcript)\n",
    "res = ask_model(model=\"llama-3.1-70b-versatile\", prompt=prompt)\n",
    "print()\n",
    "print(\"Whisper Transcipt   ->\",transcript)\n",
    "print(\"LLM Layer Transcipt ->\",res)"
   ]
  },
  {
   "cell_type": "markdown",
   "metadata": {},
   "source": [
    "5. Read: Advances in **pharmacovigilance** have improved the monitoring of **adverse events** for therapies such as **Opdivo** and **Remdesivir**.  "
   ]
  },
  {
   "cell_type": "code",
   "execution_count": 12,
   "metadata": {},
   "outputs": [
    {
     "name": "stdout",
     "output_type": "stream",
     "text": [
      "Adjusting for ambient noise...\n",
      "Please speak something...\n",
      "Listening Started...\n",
      "Listening Completed...\n",
      "saving as wav file\n",
      "Loading the speech.\n",
      "Starting enhanced audio preprocessing for whisper_temp.wav\n",
      "Preprocessed audio exported to ../data/processed/temp2.wav\n",
      "Enhanced audio preprocessing completed.\n",
      "Starting audio transcription...\n",
      "Using device: cpu\n",
      "Loading Whisper Model.\n",
      "Performing the transciption\n",
      "Audio transcription completed.\n",
      "\n",
      "Whisper Transcipt   ->  Advances in farmer co-vigilings have improved the monitoring of adverse events for therapy such as optimum and REM-DCV.\n",
      "LLM Layer Transcipt -> \"Advances in pharmacovigilance have improved the monitoring of Adverse Events for therapeutics such as Opdivo and Remdesivir.\"\n"
     ]
    }
   ],
   "source": [
    "transcript = run()\n",
    "prompt = create_pharma_correction_prompt_with_restrictions(transcript)\n",
    "res = ask_model(model=\"llama-3.1-70b-versatile\", prompt=prompt)\n",
    "print()\n",
    "print(\"Whisper Transcipt   ->\",transcript)\n",
    "print(\"LLM Layer Transcipt ->\",res)"
   ]
  },
  {
   "cell_type": "markdown",
   "metadata": {},
   "source": [
    "6. Read: **Orphan drugs** developed for rare genetic disorders are often supported by incentives like **market exclusivity** and fast-track approval by the **EMA**.  "
   ]
  },
  {
   "cell_type": "code",
   "execution_count": 13,
   "metadata": {},
   "outputs": [
    {
     "name": "stdout",
     "output_type": "stream",
     "text": [
      "Adjusting for ambient noise...\n",
      "Please speak something...\n",
      "Listening Started...\n",
      "Listening Completed...\n",
      "saving as wav file\n",
      "Loading the speech.\n",
      "Starting enhanced audio preprocessing for whisper_temp.wav\n",
      "Preprocessed audio exported to ../data/processed/temp2.wav\n",
      "Enhanced audio preprocessing completed.\n",
      "Starting audio transcription...\n",
      "Using device: cpu\n",
      "Loading Whisper Model.\n",
      "Performing the transciption\n",
      "Audio transcription completed.\n",
      "\n",
      "Whisper Transcipt   ->  Orp and drugs developed for the rare genetic disorders are often supported by incentives like market exclusivity and fast track approval by the EMA.\n",
      "LLM Layer Transcipt -> \"Orphan Drugs developed for the rare genetic disorders are often supported by incentives like Market Exclusivity and fast track approval by the EMA.\"\n"
     ]
    }
   ],
   "source": [
    "transcript = run()\n",
    "prompt = create_pharma_correction_prompt_with_restrictions(transcript)\n",
    "res = ask_model(model=\"llama-3.1-70b-versatile\", prompt=prompt)\n",
    "print()\n",
    "print(\"Whisper Transcipt   ->\",transcript)\n",
    "print(\"LLM Layer Transcipt ->\",res)"
   ]
  },
  {
   "cell_type": "markdown",
   "metadata": {},
   "source": [
    "7. Read: High **bioavailability** and efficient **drug delivery systems**, such as lipid **nanoparticles**, have made **therapeutics** for heart failure more effective."
   ]
  },
  {
   "cell_type": "code",
   "execution_count": 15,
   "metadata": {},
   "outputs": [
    {
     "name": "stdout",
     "output_type": "stream",
     "text": [
      "Adjusting for ambient noise...\n",
      "Please speak something...\n",
      "Listening Started...\n",
      "Listening Completed...\n",
      "saving as wav file\n",
      "Loading the speech.\n",
      "Starting enhanced audio preprocessing for whisper_temp.wav\n",
      "Preprocessed audio exported to ../data/processed/temp2.wav\n",
      "Enhanced audio preprocessing completed.\n",
      "Starting audio transcription...\n",
      "Using device: cpu\n",
      "Loading Whisper Model.\n",
      "Performing the transciption\n",
      "Audio transcription completed.\n",
      "\n",
      "Whisper Transcipt   ->  High bioavailability and efficient drug system such as lipid nanoparticles have made therapies for heart failure more effective.\n",
      "LLM Layer Transcipt -> \"High bioavailability and efficient Drug Delivery Systems such as Nanoparticles have made Therapeutics for heart failure more effective.\"\n"
     ]
    }
   ],
   "source": [
    "transcript = run()\n",
    "prompt = create_pharma_correction_prompt_with_restrictions(transcript)\n",
    "res = ask_model(model=\"llama-3.1-70b-versatile\", prompt=prompt)\n",
    "print()\n",
    "print(\"Whisper Transcipt   ->\",transcript)\n",
    "print(\"LLM Layer Transcipt ->\",res)"
   ]
  },
  {
   "cell_type": "markdown",
   "metadata": {},
   "source": [
    "8. Read: **Companion diagnostics** are essential for identifying patients who will benefit most from targeted **oncology** drugs like **Zytiga**.  "
   ]
  },
  {
   "cell_type": "code",
   "execution_count": 16,
   "metadata": {},
   "outputs": [
    {
     "name": "stdout",
     "output_type": "stream",
     "text": [
      "Adjusting for ambient noise...\n",
      "Please speak something...\n",
      "Listening Started...\n",
      "Listening Completed...\n",
      "saving as wav file\n",
      "Loading the speech.\n",
      "Starting enhanced audio preprocessing for whisper_temp.wav\n",
      "Preprocessed audio exported to ../data/processed/temp2.wav\n",
      "Enhanced audio preprocessing completed.\n",
      "Starting audio transcription...\n",
      "Using device: cpu\n",
      "Loading Whisper Model.\n",
      "Performing the transciption\n",
      "Audio transcription completed.\n",
      "\n",
      "Whisper Transcipt   ->  Companion diagnostics are essential for identifying patients who will benefit most from the target on collogy drugs like Zittiga.\n",
      "LLM Layer Transcipt -> \"Companion diagnostics are essential for identifying patients who will benefit most from the target oncology drugs like Zytiga.\"\n"
     ]
    }
   ],
   "source": [
    "transcript = run()\n",
    "prompt = create_pharma_correction_prompt_with_restrictions(transcript)\n",
    "res = ask_model(model=\"llama-3.1-70b-versatile\", prompt=prompt)\n",
    "print()\n",
    "print(\"Whisper Transcipt   ->\",transcript)\n",
    "print(\"LLM Layer Transcipt ->\",res)"
   ]
  },
  {
   "cell_type": "markdown",
   "metadata": {},
   "source": [
    "9. Read: A significant challenge in **pharmacokinetics** is ensuring that small molecule drugs maintain efficacy while minimizing **adverse events**.  "
   ]
  },
  {
   "cell_type": "code",
   "execution_count": 18,
   "metadata": {},
   "outputs": [
    {
     "name": "stdout",
     "output_type": "stream",
     "text": [
      "Adjusting for ambient noise...\n",
      "Please speak something...\n",
      "Listening Started...\n",
      "Listening Completed...\n",
      "saving as wav file\n",
      "Loading the speech.\n",
      "Starting enhanced audio preprocessing for whisper_temp.wav\n",
      "Preprocessed audio exported to ../data/processed/temp2.wav\n",
      "Enhanced audio preprocessing completed.\n",
      "Starting audio transcription...\n",
      "Using device: cpu\n",
      "Loading Whisper Model.\n",
      "Performing the transciption\n",
      "Audio transcription completed.\n",
      "\n",
      "Whisper Transcipt   ->  A significant challenge in pharmacokinetics is ensuring that small molecule drugs maintain efficacy while minimizing adverse events.\n",
      "LLM Layer Transcipt -> \"A significant challenge in pharmacokinetics is ensuring that Therapeutics maintain efficacy while minimizing Adverse Events.\"\n"
     ]
    }
   ],
   "source": [
    "transcript = run()\n",
    "prompt = create_pharma_correction_prompt_with_restrictions(transcript)\n",
    "res = ask_model(model=\"llama-3.1-70b-versatile\", prompt=prompt)\n",
    "print()\n",
    "print(\"Whisper Transcipt   ->\",transcript)\n",
    "print(\"LLM Layer Transcipt ->\",res)"
   ]
  },
  {
   "cell_type": "markdown",
   "metadata": {},
   "source": [
    "10. Read: The rise of **blockbuster drugs** like **Lipitor** has underscored the importance of **good manufacturing practices (GMP)** in ensuring global supply chain integrity.  "
   ]
  },
  {
   "cell_type": "code",
   "execution_count": 19,
   "metadata": {},
   "outputs": [
    {
     "name": "stdout",
     "output_type": "stream",
     "text": [
      "Adjusting for ambient noise...\n",
      "Please speak something...\n",
      "Listening Started...\n",
      "Listening Completed...\n",
      "saving as wav file\n",
      "Loading the speech.\n",
      "Starting enhanced audio preprocessing for whisper_temp.wav\n",
      "Preprocessed audio exported to ../data/processed/temp2.wav\n",
      "Enhanced audio preprocessing completed.\n",
      "Starting audio transcription...\n",
      "Using device: cpu\n",
      "Loading Whisper Model.\n",
      "Performing the transciption\n",
      "Audio transcription completed.\n",
      "\n",
      "Whisper Transcipt   ->  The rise of blockbuster drugs like Lippeter has underscored the importance of good manufacturing particles GMP in ensuring global supply chain integrity.\n",
      "LLM Layer Transcipt -> \"The rise of Blockbuster Drugs like Lipitor has underscored the importance of good manufacturing practice (GMP) in ensuring global supply chain integrity.\"\n"
     ]
    }
   ],
   "source": [
    "transcript = run()\n",
    "prompt = create_pharma_correction_prompt_with_restrictions(transcript)\n",
    "res = ask_model(model=\"llama-3.1-70b-versatile\", prompt=prompt)\n",
    "print()\n",
    "print(\"Whisper Transcipt   ->\",transcript)\n",
    "print(\"LLM Layer Transcipt ->\",res)"
   ]
  },
  {
   "cell_type": "code",
   "execution_count": null,
   "metadata": {},
   "outputs": [],
   "source": []
  }
 ],
 "metadata": {
  "kernelspec": {
   "display_name": "estt",
   "language": "python",
   "name": "python3"
  },
  "language_info": {
   "codemirror_mode": {
    "name": "ipython",
    "version": 3
   },
   "file_extension": ".py",
   "mimetype": "text/x-python",
   "name": "python",
   "nbconvert_exporter": "python",
   "pygments_lexer": "ipython3",
   "version": "3.11.10"
  }
 },
 "nbformat": 4,
 "nbformat_minor": 2
}
