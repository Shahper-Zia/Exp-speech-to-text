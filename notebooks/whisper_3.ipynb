{
 "cells": [
  {
   "cell_type": "code",
   "execution_count": 1,
   "metadata": {},
   "outputs": [],
   "source": [
    "import os\n",
    "import sys\n",
    "sys.path.append(os.getcwd()[:-10])"
   ]
  },
  {
   "cell_type": "code",
   "execution_count": 2,
   "metadata": {},
   "outputs": [],
   "source": [
    "def create_pharma_correction_prompt_with_restrictions(input_sentence):\n",
    "    # Define the list of pharma terms, including multi-word terms\n",
    "    pharma_terms = [\n",
    "        \"Keytruda\", \"Humira\", \"Opdivo\", \"Remdesivir\", \"Zytiga\", \"Lipitor\",\n",
    "        \"Oncology\", \"Rheumatology\", \"Immuno-oncology\", \"FDA\", \"EMA\",\n",
    "        \"Biosimilar\", \"Biologics\", \"Orphan Drugs\", \"Blockbuster Drugs\",\n",
    "        \"Monoclonal Antibody\", \"Therapeutics\", \"Pharmacokinetics\", \"Pharmacovigilance\",\n",
    "        \"Adverse Events\", \"CAR-T Therapy\", \"mRNA Technology\", \"Drug Delivery Systems\",\n",
    "        \"Nanoparticles\", \"Drug Pipeline\", \"Market Exclusivity\", \n",
    "        \"Phase III Clinical Trials\", \"GMP\", \"Companion Diagnostics\", \"Bioavailability\"\n",
    "    ]\n",
    "    \n",
    "    # Define examples to help the model understand the task\n",
    "    examples = \"\"\"\n",
    "    ### Examples:\n",
    "    1. Input: \"The often drugs are essential in immuo-onology research.\"\n",
    "    Output: \"The Orphan Drugs are essential in immuno-oncology research.\"\n",
    "\n",
    "    2. Input: \"Keytrda is a blockbuster drug used in rheumatolgy.\"\n",
    "    Output: \"Keytruda is a blockbuster drug used in rheumatology.\"\n",
    "\n",
    "    3. Input: \"mrna tehcnology is revolutionizing drug delivery systems.\"\n",
    "    Output: \"mRNA technology is revolutionizing drug delivery systems.\"\n",
    "\n",
    "    4. Input: \"The drug Opdivvo has high bioavalability.\"\n",
    "    Output: \"The drug Opdivo has high bioavailability.\"\n",
    "    \"\"\"\n",
    "\n",
    "    # Create the prompt template\n",
    "    prompt_template = f\"\"\"\n",
    "    You are an expert in pharmaceutical and medical terminology. Your task is to identify and correct any misspelled or mistranslated pharma-related terms in the given sentence.\n",
    "\n",
    "    ### Rules:\n",
    "    1. Check for both single-word and multi-word pharma terms.\n",
    "    2. Correct terms based on the reference list of pharma terms provided below.\n",
    "    3. Retain non-pharma words and the sentence structure.\n",
    "    4. Ensure all corrected terms match the reference list exactly.\n",
    "    5. Do NOT add new words to the sentence.\n",
    "    6. Do NOT replace existing words with alternatives that are not in the reference list.\n",
    "    7. Provide ONLY the corrected sentence as output. Do NOT include any explanations, reasons, or additional text.\n",
    "\n",
    "    ### Reference List of Pharma Terms:\n",
    "    {\", \".join(pharma_terms)}\n",
    "\n",
    "    {examples}\n",
    "\n",
    "    ### Input Sentence:\n",
    "    \"{input_sentence}\"\n",
    "\n",
    "    \"\"\"\n",
    "\n",
    "    return prompt_template"
   ]
  },
  {
   "cell_type": "code",
   "execution_count": 3,
   "metadata": {},
   "outputs": [
    {
     "name": "stdout",
     "output_type": "stream",
     "text": [
      "Adjusting for ambient noise...\n",
      "Please speak something...\n",
      "Listening Started...\n",
      "Listening Completed...\n",
      "saving as wav file\n",
      "Loading the speech.\n",
      "Starting enhanced audio preprocessing for whisper_temp.wav\n",
      "Preprocessed audio exported to ../data/processed/temp2.wav\n",
      "Enhanced audio preprocessing completed.\n",
      "Starting audio transcription...\n",
      "Using device: cpu\n",
      "Loading Whisper Model.\n"
     ]
    },
    {
     "name": "stderr",
     "output_type": "stream",
     "text": [
      "d:\\Programs\\envs\\estt\\Lib\\site-packages\\whisper\\__init__.py:150: FutureWarning: You are using `torch.load` with `weights_only=False` (the current default value), which uses the default pickle module implicitly. It is possible to construct malicious pickle data which will execute arbitrary code during unpickling (See https://github.com/pytorch/pytorch/blob/main/SECURITY.md#untrusted-models for more details). In a future release, the default value for `weights_only` will be flipped to `True`. This limits the functions that could be executed during unpickling. Arbitrary objects will no longer be allowed to be loaded via this mode unless they are explicitly allowlisted by the user via `torch.serialization.add_safe_globals`. We recommend you start setting `weights_only=True` for any use case where you don't have full control of the loaded file. Please open an issue on GitHub for any issues related to this experimental feature.\n",
      "  checkpoint = torch.load(fp, map_location=device)\n"
     ]
    },
    {
     "name": "stdout",
     "output_type": "stream",
     "text": [
      "Performing the transciption\n"
     ]
    },
    {
     "name": "stderr",
     "output_type": "stream",
     "text": [
      "d:\\Programs\\envs\\estt\\Lib\\site-packages\\whisper\\transcribe.py:126: UserWarning: FP16 is not supported on CPU; using FP32 instead\n",
      "  warnings.warn(\"FP16 is not supported on CPU; using FP32 instead\")\n"
     ]
    },
    {
     "name": "stdout",
     "output_type": "stream",
     "text": [
      "Audio transcription completed.\n",
      "\n",
      " Advances in pharmacovisaline have improved the monitoring of adverse events for therapy such as obdivo and mdcv.\n"
     ]
    }
   ],
   "source": [
    "from src.models.whisper import run\n",
    "\n",
    "# transcript = run(\"../data/raw/Rachel-Lind.wav\", initial_prompt=\"This is classroom recording\")\n",
    "transcript = run() # With Microphone: Advances in pharmacovigilance have improved the monitoring of adverse events for therapies such as Opdivo and Remdesivir. \n",
    "print()\n",
    "print(transcript)"
   ]
  },
  {
   "cell_type": "code",
   "execution_count": 4,
   "metadata": {},
   "outputs": [
    {
     "name": "stdout",
     "output_type": "stream",
     "text": [
      "\n",
      "    You are an expert in pharmaceutical and medical terminology. Your task is to identify and correct any misspelled or mistranslated pharma-related terms in the given sentence.\n",
      "\n",
      "    ### Rules:\n",
      "    1. Check for both single-word and multi-word pharma terms.\n",
      "    2. Correct terms based on the reference list of pharma terms provided below.\n",
      "    3. Retain non-pharma words and the sentence structure.\n",
      "    4. Ensure all corrected terms match the reference list exactly.\n",
      "    5. Do NOT add new words to the sentence.\n",
      "    6. Do NOT replace existing words with alternatives that are not in the reference list.\n",
      "    7. Provide ONLY the corrected sentence as output. Do NOT include any explanations, reasons, or additional text.\n",
      "\n",
      "    ### Reference List of Pharma Terms:\n",
      "    Keytruda, Humira, Opdivo, Remdesivir, Zytiga, Lipitor, Oncology, Rheumatology, Immuno-oncology, FDA, EMA, Biosimilar, Biologics, Orphan Drugs, Blockbuster Drugs, Monoclonal Antibody, Therapeutics, Pharmacokinetics, Pharmacovigilance, Adverse Events, CAR-T Therapy, mRNA Technology, Drug Delivery Systems, Nanoparticles, Drug Pipeline, Market Exclusivity, Phase III Clinical Trials, GMP, Companion Diagnostics, Bioavailability\n",
      "\n",
      "    \n",
      "    ### Examples:\n",
      "    1. Input: \"The often drugs are essential in immuo-onology research.\"\n",
      "    Output: \"The Orphan Drugs are essential in immuno-oncology research.\"\n",
      "\n",
      "    2. Input: \"Keytrda is a blockbuster drug used in rheumatolgy.\"\n",
      "    Output: \"Keytruda is a blockbuster drug used in rheumatology.\"\n",
      "\n",
      "    3. Input: \"mrna tehcnology is revolutionizing drug delivery systems.\"\n",
      "    Output: \"mRNA technology is revolutionizing drug delivery systems.\"\n",
      "\n",
      "    4. Input: \"The drug Opdivvo has high bioavalability.\"\n",
      "    Output: \"The drug Opdivo has high bioavailability.\"\n",
      "    \n",
      "\n",
      "    ### Input Sentence:\n",
      "    \" Advances in pharmacovisaline have improved the monitoring of adverse events for therapy such as obdivo and mdcv.\"\n",
      "\n",
      "    \n"
     ]
    }
   ],
   "source": [
    "# Example usage\n",
    "input_sentence = transcript\n",
    "prompt = create_pharma_correction_prompt_with_restrictions(input_sentence)\n",
    "\n",
    "print(prompt)"
   ]
  },
  {
   "cell_type": "code",
   "execution_count": 6,
   "metadata": {},
   "outputs": [
    {
     "name": "stdout",
     "output_type": "stream",
     "text": [
      "Whisper Transcipt   ->  Advances in pharmacovisaline have improved the monitoring of adverse events for therapy such as obdivo and mdcv.\n",
      "LLM Layer Transcipt -> \"Advances in Pharmacovigilance have improved the monitoring of Adverse Events for therapeutics such as Opdivo and Remdesivir.\"\n"
     ]
    }
   ],
   "source": [
    "from src.models.groq import ask_model\n",
    "\n",
    "res = ask_model(model=\"llama-3.1-70b-versatile\", prompt=prompt)\n",
    "print(\"Whisper Transcipt   ->\",transcript)\n",
    "print(\"LLM Layer Transcipt ->\",res)"
   ]
  },
  {
   "cell_type": "code",
   "execution_count": null,
   "metadata": {},
   "outputs": [],
   "source": []
  }
 ],
 "metadata": {
  "kernelspec": {
   "display_name": "estt",
   "language": "python",
   "name": "python3"
  },
  "language_info": {
   "codemirror_mode": {
    "name": "ipython",
    "version": 3
   },
   "file_extension": ".py",
   "mimetype": "text/x-python",
   "name": "python",
   "nbconvert_exporter": "python",
   "pygments_lexer": "ipython3",
   "version": "3.11.10"
  }
 },
 "nbformat": 4,
 "nbformat_minor": 2
}
