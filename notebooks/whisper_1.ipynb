{
 "cells": [
  {
   "cell_type": "code",
   "execution_count": 1,
   "metadata": {},
   "outputs": [],
   "source": [
    "import os\n",
    "import sys\n",
    "sys.path.append(os.getcwd()[:-10])"
   ]
  },
  {
   "cell_type": "markdown",
   "metadata": {},
   "source": [
    "Here are sentences with pharmaceutical terminology:  \n",
    "\n",
    "1. **Keytruda**, a **monoclonal antibody**, has transformed the landscape of **immuno-oncology**, offering new hope for patients with metastatic melanoma.  \n",
    "2. The **FDA** recently approved a **biosimilar** for **Humira**, addressing the growing demand for cost-effective treatments in **rheumatology**.  \n",
    "3. **CAR-T therapy** and **mRNA technology** are among the most groundbreaking innovations in **oncology**, enabling precision **therapeutics** for hard-to-treat cancers.  \n",
    "4. The company's **drug pipeline** includes multiple **biologics** in **Phase III clinical trials**, targeting diseases like lymphoma and multiple sclerosis.  \n",
    "5. Advances in **pharmacovigilance** have improved the monitoring of **adverse events** for therapies such as **Opdivo** and **Remdesivir**.  \n",
    "6. **Orphan drugs** developed for rare genetic disorders are often supported by incentives like **market exclusivity** and fast-track approval by the **EMA**.  \n",
    "7. High **bioavailability** and efficient **drug delivery systems**, such as lipid **nanoparticles**, have made **therapeutics** for heart failure more effective.  \n",
    "8. **Companion diagnostics** are essential for identifying patients who will benefit most from targeted **oncology** drugs like **Zytiga**.  \n",
    "9. A significant challenge in **pharmacokinetics** is ensuring that small molecule drugs maintain efficacy while minimizing **adverse events**.  \n",
    "10. The rise of **blockbuster drugs** like **Lipitor** has underscored the importance of **good manufacturing practices (GMP)** in ensuring global supply chain integrity.  "
   ]
  },
  {
   "cell_type": "code",
   "execution_count": 6,
   "metadata": {},
   "outputs": [],
   "source": [
    "from src.models.whisper import run"
   ]
  },
  {
   "cell_type": "markdown",
   "metadata": {},
   "source": [
    "1. Read: **Keytruda**, a **monoclonal antibody**, has transformed the landscape of **immuno-oncology**, offering new hope for patients with metastatic melanoma."
   ]
  },
  {
   "cell_type": "code",
   "execution_count": 7,
   "metadata": {},
   "outputs": [
    {
     "name": "stdout",
     "output_type": "stream",
     "text": [
      "Adjusting for ambient noise...\n",
      "Please speak something...\n",
      "Listening Started...\n",
      "Listening Completed...\n",
      "saving as wav file\n",
      "Loading the speech.\n",
      "Starting enhanced audio preprocessing for whis_temp_1.wav\n",
      "Preprocessed audio exported to ../data/processed/temp2.wav\n",
      "Enhanced audio preprocessing completed.\n",
      "Starting audio transcription...\n",
      "Using device: cpu\n",
      "Loading Whisper Model.\n",
      "Performing the transcciption\n",
      "Audio transcription completed.\n",
      "\n",
      "Transcipt ->  Kee Koo Da, a monoclonal antibody has transformed the landscape of immunosancology, offering new hope for patients with metastatic melanoma.\n"
     ]
    }
   ],
   "source": [
    "a = run()\n",
    "print()\n",
    "print(\"Transcipt ->\",a)"
   ]
  },
  {
   "cell_type": "markdown",
   "metadata": {},
   "source": [
    "2. Read: The **FDA** recently approved a **biosimilar** for **Humira**, addressing the growing demand for cost-effective treatments in **rheumatology**."
   ]
  },
  {
   "cell_type": "code",
   "execution_count": 10,
   "metadata": {},
   "outputs": [
    {
     "name": "stdout",
     "output_type": "stream",
     "text": [
      "Adjusting for ambient noise...\n",
      "Please speak something...\n",
      "Listening Started...\n",
      "Listening Completed...\n",
      "saving as wav file\n",
      "Loading the speech.\n",
      "Starting enhanced audio preprocessing for whis_temp_1.wav\n",
      "Preprocessed audio exported to ../data/processed/temp2.wav\n",
      "Enhanced audio preprocessing completed.\n",
      "Starting audio transcription...\n",
      "Using device: cpu\n",
      "Loading Whisper Model.\n",
      "Performing the transcciption\n",
      "Audio transcription completed.\n",
      "\n",
      "Transcipt ->  The FDA recently approved a bio-similar for Yumeera addressing the growing demand for course effective treatments in rheumatology.\n"
     ]
    }
   ],
   "source": [
    "a = run()\n",
    "print()\n",
    "print(\"Transcipt ->\",a)"
   ]
  },
  {
   "cell_type": "markdown",
   "metadata": {},
   "source": [
    "3. Read: **CAR-T therapy** and **mRNA technology** are among the most groundbreaking innovations in **oncology**, enabling precision **therapeutics** for hard-to-treat cancers."
   ]
  },
  {
   "cell_type": "code",
   "execution_count": 15,
   "metadata": {},
   "outputs": [
    {
     "name": "stdout",
     "output_type": "stream",
     "text": [
      "Adjusting for ambient noise...\n",
      "Please speak something...\n",
      "Listening Started...\n",
      "Listening Completed...\n",
      "saving as wav file\n",
      "Loading the speech.\n",
      "Starting enhanced audio preprocessing for whis_temp_1.wav\n",
      "Preprocessed audio exported to ../data/processed/temp2.wav\n",
      "Enhanced audio preprocessing completed.\n",
      "Starting audio transcription...\n",
      "Using device: cpu\n",
      "Loading Whisper Model.\n",
      "Performing the transcciption\n",
      "Audio transcription completed.\n",
      "\n",
      "Transcipt ->  Cardi therapy and mRNA technology are amongst the most groundbreaking innovations in oncology, enabling the physician therapeutics for hard-to-treat cancers.\n"
     ]
    }
   ],
   "source": [
    "a = run()\n",
    "print()\n",
    "print(\"Transcipt ->\",a)"
   ]
  },
  {
   "cell_type": "markdown",
   "metadata": {},
   "source": [
    "4. Read: The company's **drug pipeline** includes multiple **biologics** in **Phase III clinical trials**, targeting diseases like **lymphoma** and multiple **sclerosis**.  "
   ]
  },
  {
   "cell_type": "code",
   "execution_count": 16,
   "metadata": {},
   "outputs": [
    {
     "name": "stdout",
     "output_type": "stream",
     "text": [
      "Adjusting for ambient noise...\n",
      "Please speak something...\n",
      "Listening Started...\n",
      "Listening Completed...\n",
      "saving as wav file\n",
      "Loading the speech.\n",
      "Starting enhanced audio preprocessing for whis_temp_1.wav\n",
      "Preprocessed audio exported to ../data/processed/temp2.wav\n",
      "Enhanced audio preprocessing completed.\n",
      "Starting audio transcription...\n",
      "Using device: cpu\n",
      "Loading Whisper Model.\n",
      "Performing the transcciption\n",
      "Audio transcription completed.\n",
      "\n",
      "Transcipt ->  The company's drug pipeline includes multiple biologics in phase 3 clinical trials targeting diseases like lymphoma and multiple sclerosis.\n"
     ]
    }
   ],
   "source": [
    "a = run()\n",
    "print()\n",
    "print(\"Transcipt ->\",a)"
   ]
  },
  {
   "cell_type": "markdown",
   "metadata": {},
   "source": [
    "5. Read: Advances in **pharmacovigilance** have improved the monitoring of **adverse events** for therapies such as **Opdivo** and **Remdesivir**.  "
   ]
  },
  {
   "cell_type": "code",
   "execution_count": 22,
   "metadata": {},
   "outputs": [
    {
     "name": "stdout",
     "output_type": "stream",
     "text": [
      "Adjusting for ambient noise...\n",
      "Please speak something...\n",
      "Listening Started...\n",
      "Listening Completed...\n",
      "saving as wav file\n",
      "Loading the speech.\n",
      "Starting enhanced audio preprocessing for whis_temp_1.wav\n",
      "Preprocessed audio exported to ../data/processed/temp2.wav\n",
      "Enhanced audio preprocessing completed.\n",
      "Starting audio transcription...\n",
      "Using device: cpu\n",
      "Loading Whisper Model.\n",
      "Performing the transcciption\n",
      "Audio transcription completed.\n",
      "\n",
      "Transcipt ->  Advances in Pharma Co-Vigilance has improved the monitoring of adverse events for therapies such as O.D.O. and R.D.C.\n"
     ]
    }
   ],
   "source": [
    "a = run()\n",
    "print()\n",
    "print(\"Transcipt ->\",a)"
   ]
  },
  {
   "cell_type": "markdown",
   "metadata": {},
   "source": [
    "6. Read: **Orphan drugs** developed for rare genetic disorders are often supported by incentives like **market exclusivity** and fast-track approval by the **EMA**.  "
   ]
  },
  {
   "cell_type": "code",
   "execution_count": 26,
   "metadata": {},
   "outputs": [
    {
     "name": "stdout",
     "output_type": "stream",
     "text": [
      "Adjusting for ambient noise...\n",
      "Please speak something...\n",
      "Listening Started...\n",
      "Listening Completed...\n",
      "saving as wav file\n",
      "Loading the speech.\n",
      "Starting enhanced audio preprocessing for whis_temp_1.wav\n",
      "Preprocessed audio exported to ../data/processed/temp2.wav\n",
      "Enhanced audio preprocessing completed.\n",
      "Starting audio transcription...\n",
      "Using device: cpu\n",
      "Loading Whisper Model.\n",
      "Performing the transcciption\n",
      "Audio transcription completed.\n",
      "\n",
      "Transcipt ->  Often drugs, developed for real genetic disorders are often supported by incentives like market exclusivity and fast track approval by the EMA.\n"
     ]
    }
   ],
   "source": [
    "a = run()\n",
    "print()\n",
    "print(\"Transcipt ->\",a)"
   ]
  },
  {
   "cell_type": "markdown",
   "metadata": {},
   "source": [
    "7. Read: High **bioavailability** and efficient **drug delivery systems**, such as lipid **nanoparticles**, have made **therapeutics** for heart failure more effective."
   ]
  },
  {
   "cell_type": "code",
   "execution_count": 28,
   "metadata": {},
   "outputs": [
    {
     "name": "stdout",
     "output_type": "stream",
     "text": [
      "Adjusting for ambient noise...\n",
      "Please speak something...\n",
      "Listening Started...\n",
      "Listening Completed...\n",
      "saving as wav file\n",
      "Loading the speech.\n",
      "Starting enhanced audio preprocessing for whis_temp_1.wav\n",
      "Preprocessed audio exported to ../data/processed/temp2.wav\n",
      "Enhanced audio preprocessing completed.\n",
      "Starting audio transcription...\n",
      "Using device: cpu\n",
      "Loading Whisper Model.\n",
      "Performing the transcciption\n",
      "Audio transcription completed.\n",
      "\n",
      "Transcipt ->  High bioavailability and efficient drug delivery systems such as lipid nanoparticles have made herepatic spur-hard failure more effective.\n"
     ]
    }
   ],
   "source": [
    "a = run()\n",
    "print()\n",
    "print(\"Transcipt ->\",a)"
   ]
  },
  {
   "cell_type": "markdown",
   "metadata": {},
   "source": [
    "8. Read: **Companion diagnostics** are essential for identifying patients who will benefit most from targeted **oncology** drugs like **Zytiga**.  "
   ]
  },
  {
   "cell_type": "code",
   "execution_count": 29,
   "metadata": {},
   "outputs": [
    {
     "name": "stdout",
     "output_type": "stream",
     "text": [
      "Adjusting for ambient noise...\n",
      "Please speak something...\n",
      "Listening Started...\n",
      "Listening Completed...\n",
      "saving as wav file\n",
      "Loading the speech.\n",
      "Starting enhanced audio preprocessing for whis_temp_1.wav\n",
      "Preprocessed audio exported to ../data/processed/temp2.wav\n",
      "Enhanced audio preprocessing completed.\n",
      "Starting audio transcription...\n",
      "Using device: cpu\n",
      "Loading Whisper Model.\n",
      "Performing the transcciption\n",
      "Audio transcription completed.\n",
      "\n",
      "Transcipt ->  Companion diagnostics are essential for identifying patients who will benefit most from targeted oncology drugs like Zetiga.\n"
     ]
    }
   ],
   "source": [
    "a = run()\n",
    "print()\n",
    "print(\"Transcipt ->\",a)"
   ]
  },
  {
   "cell_type": "markdown",
   "metadata": {},
   "source": [
    "9. Read: A significant challenge in **pharmacokinetics** is ensuring that small molecule drugs maintain efficacy while minimizing **adverse events**.  "
   ]
  },
  {
   "cell_type": "code",
   "execution_count": 32,
   "metadata": {},
   "outputs": [
    {
     "name": "stdout",
     "output_type": "stream",
     "text": [
      "Adjusting for ambient noise...\n",
      "Please speak something...\n",
      "Listening Started...\n",
      "Listening Completed...\n",
      "saving as wav file\n",
      "Loading the speech.\n",
      "Starting enhanced audio preprocessing for whis_temp_1.wav\n",
      "Preprocessed audio exported to ../data/processed/temp2.wav\n",
      "Enhanced audio preprocessing completed.\n",
      "Starting audio transcription...\n",
      "Using device: cpu\n",
      "Loading Whisper Model.\n",
      "Performing the transcciption\n",
      "Audio transcription completed.\n",
      "\n",
      "Transcipt ->  A significant challenge in pharmacokinetics is ensuring that small molecule growth maintain efficacy while minimizing adverse events.\n"
     ]
    }
   ],
   "source": [
    "a = run()\n",
    "print()\n",
    "print(\"Transcipt ->\",a)"
   ]
  },
  {
   "cell_type": "markdown",
   "metadata": {},
   "source": [
    "10. Read: The rise of **blockbuster drugs** like **Lipitor** has underscored the importance of **good manufacturing practices (GMP)** in ensuring global supply chain integrity.  "
   ]
  },
  {
   "cell_type": "code",
   "execution_count": 34,
   "metadata": {},
   "outputs": [
    {
     "name": "stdout",
     "output_type": "stream",
     "text": [
      "Adjusting for ambient noise...\n",
      "Please speak something...\n",
      "Listening Started...\n",
      "Listening Completed...\n",
      "saving as wav file\n",
      "Loading the speech.\n",
      "Starting enhanced audio preprocessing for whis_temp_1.wav\n",
      "Preprocessed audio exported to ../data/processed/temp2.wav\n",
      "Enhanced audio preprocessing completed.\n",
      "Starting audio transcription...\n",
      "Using device: cpu\n",
      "Loading Whisper Model.\n",
      "Performing the transcciption\n",
      "Audio transcription completed.\n",
      "\n",
      "Transcipt ->  The rise of blockbuster drugs like LiPiTur has underscored the importance of good manufacturing particles, GMP in ensuring global supply chain integrity.\n"
     ]
    }
   ],
   "source": [
    "a = run()\n",
    "print()\n",
    "print(\"Transcipt ->\",a)"
   ]
  },
  {
   "cell_type": "code",
   "execution_count": null,
   "metadata": {},
   "outputs": [],
   "source": []
  }
 ],
 "metadata": {
  "kernelspec": {
   "display_name": "estt",
   "language": "python",
   "name": "python3"
  },
  "language_info": {
   "codemirror_mode": {
    "name": "ipython",
    "version": 3
   },
   "file_extension": ".py",
   "mimetype": "text/x-python",
   "name": "python",
   "nbconvert_exporter": "python",
   "pygments_lexer": "ipython3",
   "version": "3.11.10"
  }
 },
 "nbformat": 4,
 "nbformat_minor": 2
}
